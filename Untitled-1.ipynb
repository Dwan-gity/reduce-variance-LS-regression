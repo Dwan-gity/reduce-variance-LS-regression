{
 "cells": [
  {
   "cell_type": "markdown",
   "metadata": {},
   "source": [
    "RNG"
   ]
  },
  {
   "cell_type": "code",
   "execution_count": 57,
   "metadata": {},
   "outputs": [],
   "source": [
    "import numpy as np\n",
    "from sklearn.linear_model import LinearRegression\n",
    "import matplotlib.pyplot as plt\n",
    "\n",
    "class RNG:\n",
    "    def __init__(self, seed=None):\n",
    "        self.rng = np.random.default_rng(seed)\n",
    "\n",
    "    def normal(self, size):\n",
    "        return self.rng.standard_normal(size)"
   ]
  },
  {
   "cell_type": "markdown",
   "metadata": {},
   "source": [
    "Class payoff"
   ]
  },
  {
   "cell_type": "code",
   "execution_count": 58,
   "metadata": {},
   "outputs": [],
   "source": [
    "class Payoff:\n",
    "    def __init__(self, strike, option_type='call'):\n",
    "        self.strike = strike\n",
    "        self.option_type = option_type\n",
    "\n",
    "    def __call__(self, prices):\n",
    "        if self.option_type == 'call':\n",
    "            return np.maximum(prices - self.strike, 0)\n",
    "        if self.option_type == 'put':\n",
    "            return np.maximum(self.strike - prices, 0)\n",
    "        if self.option_type == 'digital':\n",
    "            return (prices > self.strike).astype(float)\n",
    "        raise Exception(\"XXX\")\n",
    "        \n",
    "\n",
    "\n",
    "#set option type\n",
    "        \n",
    "\n"
   ]
  },
  {
   "cell_type": "markdown",
   "metadata": {},
   "source": [
    "Geometric Brownian Motion"
   ]
  },
  {
   "cell_type": "code",
   "execution_count": 59,
   "metadata": {},
   "outputs": [],
   "source": [
    "class PathGenerator:\n",
    "    def __init__(self, spot, r_t, sigma_t, times, rng):\n",
    "        self.spot = spot\n",
    "        self.r_t = r_t\n",
    "        self.sigma_t = sigma_t\n",
    "        self.times = np.array(times)\n",
    "        self.rng = rng\n",
    "\n",
    "    def generate_paths(self, N):\n",
    "        M = len(self.times)\n",
    "        paths = np.zeros((N, M))\n",
    "        paths[:, 0] = self.spot\n",
    "        for i in range(1, M):\n",
    "            dt = self.times[i] - self.times[i - 1]\n",
    "            r = self.r_t(self.times[i - 1])\n",
    "            sigma = self.sigma_t(self.times[i - 1])\n",
    "            Z = self.rng.normal(N)\n",
    "            paths[:, i] = paths[:, i - 1] * np.exp((r - 0.5 * sigma ** 2) * dt + sigma * np.sqrt(dt) * Z)\n",
    "        return paths"
   ]
  },
  {
   "cell_type": "markdown",
   "metadata": {},
   "source": [
    "Implement"
   ]
  },
  {
   "cell_type": "markdown",
   "metadata": {},
   "source": [
    "Longstaff–Schwartz Regression"
   ]
  },
  {
   "cell_type": "code",
   "execution_count": 60,
   "metadata": {},
   "outputs": [],
   "source": [
    "def basis_functions(x):\n",
    "    return np.column_stack([\n",
    "        # Polynomial 1, x , x^2\n",
    "        np.ones_like(x),  \n",
    "        x,                \n",
    "        x**2              \n",
    "    ])\n",
    "\n",
    "\n",
    "\n",
    "\n",
    "\n",
    "def ls_regression(X, Y):\n",
    "    #X = S_{T - τ}\n",
    "    #Y = F(S_T)\n",
    "    Phi_X = basis_functions(X)\n",
    "    model = LinearRegression(fit_intercept=False)\n",
    "    model.fit(Phi_X, Y)\n",
    "    beta = model.coef_\n",
    "    \n",
    "    def phi(x_new):\n",
    "        x_new = np.atleast_1d(x_new)\n",
    "        return basis_functions(x_new) @ beta\n",
    "\n",
    "    return phi, beta\n",
    "\n",
    "\n",
    "\n"
   ]
  },
  {
   "cell_type": "code",
   "execution_count": null,
   "metadata": {},
   "outputs": [
    {
     "name": "stdout",
     "output_type": "stream",
     "text": [
      "0.24646105887900002 0.1300981025163929\n"
     ]
    }
   ],
   "source": [
    "# Parameters\n",
    "spot = 100\n",
    "K = 100\n",
    "T = 1.0\n",
    "times = [0.0, 0.8, 1.0]  \n",
    "# t0, t_{T-τ}, T\n",
    "\n",
    "r_t = lambda t: 0.05\n",
    "sigma_t = lambda t: 0.2\n",
    "N = 10000\n",
    "#simulate S_{T-τ} and F(S_T) for regression\n",
    "\n",
    "\n",
    "\n",
    "# Setup\n",
    "rng = RNG(seed=4)\n",
    "payoff = Payoff(K, option_type='digital')\n",
    "generator = PathGenerator(spot, r_t, sigma_t, times, rng)\n",
    "\n",
    "# Simulate\n",
    "paths = generator.generate_paths(N)\n",
    "X = paths[:, 1]  \n",
    "# S_{T - τ}\n",
    "\n",
    "Y = payoff(paths[:, 2])  \n",
    "# F(S_T)\n",
    "\n",
    "phi, beta = ls_regression(X, Y)\n",
    "\n",
    "#用回归得到的 phi(S_{T−τ}) 拟合 Y\n",
    "#这里还是用的原来的X来predict的Y \n",
    "Y_predicted = phi(X)\n",
    "\n",
    "# 对比 variance\n",
    "var_MC = np.var(Y)\n",
    "var_LS = np.var(Y_predicted)\n",
    "\n",
    "print(var_MC, var_LS)"
   ]
  },
  {
   "cell_type": "markdown",
   "metadata": {},
   "source": [
    "把digital payoff 带入到regression框架中"
   ]
  },
  {
   "cell_type": "code",
   "execution_count": 62,
   "metadata": {},
   "outputs": [
    {
     "name": "stdout",
     "output_type": "stream",
     "text": [
      "MC variance (no regression): 0.24643137135600002\n",
      "Regression variance: 0.1298751000936685\n"
     ]
    },
    {
     "data": {
      "image/png": "[encoded data removed]",
      "text/plain": [
       "<Figure size 640x480 with 1 Axes>"
      ]
     },
     "metadata": {},
     "output_type": "display_data"
    }
   ],
   "source": [
    "K = 100  # strike\n",
    "payoff = Payoff(K, option_type='digital')  # step payoff: 1 if S_T > K, else 0\n",
    "# times: [0, T−τ, T]\n",
    "paths = generator.generate_paths(N)\n",
    "\n",
    "X = paths[:, 1]  # S_{T−τ}\n",
    "S_T = paths[:, 2]\n",
    "Y = payoff(S_T)  # digital payoff\n",
    "\n",
    "# Perform regression and get coefficients\n",
    "phi_fn, coeffs = ls_regression(X, Y)\n",
    "\n",
    "Y_pred = phi(X)\n",
    "\n",
    "# Compare variances\n",
    "var_mc = np.var(Y)              # Monte Carlo (原始 F(S_T))\n",
    "var_phi = np.var(Y_pred)        # Regression 后的 phi(S_{T−τ})\n",
    "\n",
    "print(\"MC variance (no regression):\", var_mc)\n",
    "print(\"Regression variance:\", var_phi)\n",
    "\n",
    "\n",
    "\n",
    "plt.scatter(X, Y, alpha=0.2, label='True F(S_T)', s=10)\n",
    "x_vals = np.linspace(min(X), max(X), 200)\n",
    "plt.plot(x_vals, phi_fn(x_vals), color='red', label='Regression φ(x)')\n",
    "plt.xlabel('$S_{T−\\\\tau}$')\n",
    "plt.ylabel('Payoff')\n",
    "plt.title('Digital Payoff Regression')\n",
    "plt.legend()\n",
    "plt.grid(True)\n",
    "plt.show()"
   ]
  }
 ],
 "metadata": {
  "kernelspec": {
   "display_name": ".venv",
   "language": "python",
   "name": "python3"
  },
  "language_info": {
   "codemirror_mode": {
    "name": "ipython",
    "version": 3
   },
   "file_extension": ".py",
   "mimetype": "text/x-python",
   "name": "python",
   "nbconvert_exporter": "python",
   "pygments_lexer": "ipython3",
   "version": "3.13.2"
  }
 },
 "nbformat": 4,
 "nbformat_minor": 2
}
